{
 "cells": [
  {
   "cell_type": "markdown",
   "metadata": {},
   "source": [
    "## Implementing Parts-Of-Speech tags using Spacy"
   ]
  },
  {
   "cell_type": "markdown",
   "metadata": {},
   "source": [
    "#### Prerequisites\n",
    "\n",
    "You need to install the `spacy` library and download a language model.\n",
    "- `pip install spacy`\n",
    "- `python3 -m spacy download en_core_web_sm`"
   ]
  },
  {
   "cell_type": "code",
   "execution_count": 2,
   "metadata": {},
   "outputs": [
    {
     "name": "stderr",
     "output_type": "stream",
     "text": [
      "2023-07-24 13:04:28.904333: I tensorflow/core/platform/cpu_feature_guard.cc:193] This TensorFlow binary is optimized with oneAPI Deep Neural Network Library (oneDNN) to use the following CPU instructions in performance-critical operations:  AVX2 FMA\n",
      "To enable them in other operations, rebuild TensorFlow with the appropriate compiler flags.\n",
      "2023-07-24 13:04:29.471307: W tensorflow/compiler/xla/stream_executor/platform/default/dso_loader.cc:64] Could not load dynamic library 'libnvinfer.so.7'; dlerror: libnvinfer.so.7: cannot open shared object file: No such file or directory; LD_LIBRARY_PATH: /home/dxps/apps/libtorch-200-cu118/lib:\n",
      "2023-07-24 13:04:29.471382: W tensorflow/compiler/xla/stream_executor/platform/default/dso_loader.cc:64] Could not load dynamic library 'libnvinfer_plugin.so.7'; dlerror: libnvinfer_plugin.so.7: cannot open shared object file: No such file or directory; LD_LIBRARY_PATH: /home/dxps/apps/libtorch-200-cu118/lib:\n",
      "2023-07-24 13:04:29.471388: W tensorflow/compiler/tf2tensorrt/utils/py_utils.cc:38] TF-TRT Warning: Cannot dlopen some TensorRT libraries. If you would like to use Nvidia GPU with TensorRT, please make sure the missing libraries mentioned above are installed properly.\n",
      "2023-07-24 13:04:31.845343: E tensorflow/compiler/xla/stream_executor/cuda/cuda_driver.cc:267] failed call to cuInit: CUDA_ERROR_NO_DEVICE: no CUDA-capable device is detected\n",
      "2023-07-24 13:04:31.845462: I tensorflow/compiler/xla/stream_executor/cuda/cuda_diagnostics.cc:156] kernel driver does not appear to be running on this host (dxps): /proc/driver/nvidia/version does not exist\n"
     ]
    }
   ],
   "source": [
    "import spacy\n",
    "\n",
    "nlp = spacy.load(\"en_core_web_sm\")"
   ]
  },
  {
   "cell_type": "code",
   "execution_count": 3,
   "metadata": {},
   "outputs": [
    {
     "data": {
      "text/plain": [
       "<spacy.lang.en.English at 0x7f5b76cb8550>"
      ]
     },
     "execution_count": 3,
     "metadata": {},
     "output_type": "execute_result"
    }
   ],
   "source": [
    "nlp"
   ]
  },
  {
   "cell_type": "code",
   "execution_count": 8,
   "metadata": {},
   "outputs": [
    {
     "name": "stdout",
     "output_type": "stream",
     "text": [
      "Apple                |    96 | PROPN    | proper noun          | NNP    |       15794550382381185553 | noun, proper singular                   \n",
      "is                   |    87 | AUX      | auxiliary            | VBZ    |       13927759927860985106 | verb, 3rd person singular present       \n",
      "planning             |   100 | VERB     | verb                 | VBG    |        1534113631682161808 | verb, gerund or present participle      \n",
      "to                   |    94 | PART     | particle             | TO     |        5595707737748328492 | infinitival \"to\"                        \n",
      "buy                  |   100 | VERB     | verb                 | VB     |       14200088355797579614 | verb, base form                         \n",
      "U.K                  |    96 | PROPN    | proper noun          | NNP    |       15794550382381185553 | noun, proper singular                   \n",
      "startup              |    92 | NOUN     | noun                 | NN     |       15308085513773655218 | noun, singular or mass                  \n",
      "for                  |    85 | ADP      | adposition           | IN     |        1292078113972184607 | conjunction, subordinating or preposition\n",
      "$                    |    99 | SYM      | symbol               | $      |       11283501755624150392 | symbol, currency                        \n",
      "1                    |    93 | NUM      | numeral              | CD     |        8427216679587749980 | cardinal number                         \n",
      "billion              |    93 | NUM      | numeral              | CD     |        8427216679587749980 | cardinal number                         \n",
      ".                    |    97 | PUNCT    | punctuation          | .      |       12646065887601541794 | punctuation mark, sentence closer       \n"
     ]
    }
   ],
   "source": [
    "doc = nlp(\"Apple is planning to buy U.K startup for $1 billion.\")\n",
    "for token in doc:\n",
    "    print(\"{0:20} | {1:5} | {2:8} | {3:20} | {4:6} | {5:26} | {6:40}\".format(str(token), token.pos, token.pos_, spacy.explain(token.pos_), \n",
    "                                                                      token.tag_, token.tag, spacy.explain(token.tag_)))\n",
    "\n",
    "# Notes:\n",
    "# `token.pos_`    = POS tag of the token.\n",
    "# `token.tag_`    = detailed aspect of the POS tag assigned to the token.\n",
    "# Spacy's POS tags are documented [here](https://spacy.io/usage/linguistic-features#pos-tagging).\n",
    "# There are other libraries (such as `nltk` and `standfordnlp`) that can do POS tagging."
   ]
  }
 ],
 "metadata": {
  "kernelspec": {
   "display_name": "Python 3",
   "language": "python",
   "name": "python3"
  },
  "language_info": {
   "codemirror_mode": {
    "name": "ipython",
    "version": 3
   },
   "file_extension": ".py",
   "mimetype": "text/x-python",
   "name": "python",
   "nbconvert_exporter": "python",
   "pygments_lexer": "ipython3",
   "version": "3.10.6"
  },
  "orig_nbformat": 4
 },
 "nbformat": 4,
 "nbformat_minor": 2
}
